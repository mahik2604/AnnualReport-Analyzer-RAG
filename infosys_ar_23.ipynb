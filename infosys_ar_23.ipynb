{
  "cells": [
    {
      "cell_type": "code",
      "execution_count": null,
      "metadata": {
        "id": "2Kyao0UbR2SI"
      },
      "outputs": [],
      "source": [
        "!pip install langchain\n",
        "!pip install chromadb\n",
        "!pip install openai\n",
        "!pip install pypdf\n",
        "!pip install tiktoken\n",
        "!pip install ragas"
      ]
    },
    {
      "cell_type": "markdown",
      "source": [
        "##RAG using Agent_toolkits by langchain"
      ],
      "metadata": {
        "id": "y2IvhglmFqSL"
      }
    },
    {
      "cell_type": "code",
      "execution_count": null,
      "metadata": {
        "id": "aDuy570yRrsl"
      },
      "outputs": [],
      "source": [
        "from langchain.llms import OpenAI\n",
        "from langchain.embeddings import OpenAIEmbeddings\n",
        "from langchain.document_loaders import PyPDFLoader\n",
        "from langchain.vectorstores import Chroma\n",
        "from langchain.agents.agent_toolkits import (\n",
        "    create_vectorstore_agent,\n",
        "    VectorStoreToolkit,\n",
        "    VectorStoreInfo\n",
        ")\n",
        "import os\n",
        "os.environ['OPENAI_API_KEY'] = 'key'\n",
        "\n",
        "llm = OpenAI(temperature=0.1, verbose=True)\n",
        "embeddings = OpenAIEmbeddings()\n",
        "loader = PyPDFLoader('/content/infosys-ar-23.pdf')\n",
        "pages = loader.load_and_split()\n",
        "store = Chroma.from_documents(pages, embeddings, collection_name='annualreport')\n",
        "\n",
        "# Create vectorstore info object - metadata repo?\n",
        "vectorstore_info = VectorStoreInfo(\n",
        "    name=\"annual_report\",\n",
        "    description=\"a banking annual report as a pdf\",\n",
        "    vectorstore=store\n",
        ")\n",
        "\n",
        "toolkit = VectorStoreToolkit(vectorstore_info=vectorstore_info)\n",
        "\n",
        "agent_executor = create_vectorstore_agent(\n",
        "    llm=llm,\n",
        "    toolkit=toolkit,\n",
        "    verbose=True\n",
        ")\n",
        "\n"
      ]
    },
    {
      "cell_type": "code",
      "source": [
        "#save db\n",
        "# store = Chroma.from_documents(pages, embeddings,collection_name='annualreport', persist_directory=\"./chroma_db\")\n",
        "\n",
        "#load\n",
        "store = Chroma(persist_directory=\"./chroma_db\", embedding_function=embeddings)\n"
      ],
      "metadata": {
        "id": "IQ-Bu5hBm_7Q"
      },
      "execution_count": null,
      "outputs": []
    },
    {
      "cell_type": "markdown",
      "source": [
        "##Evaluation"
      ],
      "metadata": {
        "id": "PyMRYjWgFeqq"
      }
    },
    {
      "cell_type": "code",
      "execution_count": null,
      "metadata": {
        "id": "autsFYU1SWNu"
      },
      "outputs": [],
      "source": [
        "from ragas.metrics import faithfulness, answer_relevancy, context_relevancy, context_recall\n",
        "from ragas.langchain import RagasEvaluatorChain\n",
        "from langchain.docstore.document import Document\n",
        "\n",
        "eval_chains = {\n",
        "    m.name: RagasEvaluatorChain(metric=m)\n",
        "    for m in [faithfulness, answer_relevancy, context_relevancy]\n",
        "}"
      ]
    },
    {
      "cell_type": "markdown",
      "source": [
        "### Testing our RAG"
      ],
      "metadata": {
        "id": "gURjRS8tF0fY"
      }
    },
    {
      "cell_type": "code",
      "execution_count": null,
      "metadata": {
        "colab": {
          "base_uri": "https://localhost:8080/"
        },
        "id": "C8jhyKg8mnGQ",
        "outputId": "f34a5379-33b3-403d-9c18-39aa733ec06c"
      },
      "outputs": [
        {
          "output_type": "stream",
          "name": "stdout",
          "text": [
            "\n",
            "\n",
            "\u001b[1m> Entering new AgentExecutor chain...\u001b[0m\n",
            "\u001b[32;1m\u001b[1;3m I need to find the answer in the annual report\n",
            "Action: annual_report\n",
            "Action Input: Total comprehensive income for the year attributable to the owners of the Company, Standalone - year 2023\u001b[0m\n",
            "Observation: \u001b[36;1m\u001b[1;3m 24,000\u001b[0m\n",
            "Thought:\u001b[32;1m\u001b[1;3m I now know the final answer\n",
            "Final Answer: 24,000\u001b[0m\n",
            "\n",
            "\u001b[1m> Finished chain.\u001b[0m\n",
            "24,000\n"
          ]
        }
      ],
      "source": [
        "query = 'What is Total comprehensive income for the year attributable to the owners of the Company, Standalone - year 2023?'\n",
        "response = agent_executor.run(query)\n",
        "print(response)"
      ]
    },
    {
      "cell_type": "markdown",
      "source": [
        "### Evaluating RAG"
      ],
      "metadata": {
        "id": "J1lJF0AOF9QT"
      }
    },
    {
      "cell_type": "code",
      "execution_count": null,
      "metadata": {
        "colab": {
          "base_uri": "https://localhost:8080/"
        },
        "id": "2ZMHb-MPjlo7",
        "outputId": "da707075-6bf2-4384-d143-d08ae5af754a"
      },
      "outputs": [
        {
          "name": "stdout",
          "output_type": "stream",
          "text": [
            "faithfulness_score: 0.0\n",
            "answer_relevancy_score: 0.7575130488250109\n",
            "context_relevancy_score: 0.02564102564102564\n"
          ]
        }
      ],
      "source": [
        "doc = Document(page_content=chunk.page_content)\n",
        "\n",
        "for name, eval_chain in eval_chains.items():\n",
        "    score_name = f\"{name}_score\"\n",
        "    inputs = {\n",
        "        'query': query,\n",
        "        'source_documents': [doc],\n",
        "        'result': response\n",
        "    }\n",
        "    score = eval_chain(inputs)[score_name]\n",
        "    print(f\"{score_name}: {score}\")"
      ]
    },
    {
      "cell_type": "code",
      "execution_count": null,
      "metadata": {
        "colab": {
          "base_uri": "https://localhost:8080/"
        },
        "id": "wAcFKNRXtluv",
        "outputId": "60c087e1-4772-4123-9d62-3fa222170bde"
      },
      "outputs": [
        {
          "name": "stdout",
          "output_type": "stream",
          "text": [
            "\n",
            "\n",
            "\u001b[1m> Entering new AgentExecutor chain...\u001b[0m\n",
            "\u001b[32;1m\u001b[1;3m I need to find the date of acquisition of Blue Acorn iCi Inc.\n",
            "Action: annual_report\n",
            "Action Input: Date of acquisition of Blue Acorn iCi Inc\u001b[0m\n",
            "Observation: \u001b[36;1m\u001b[1;3m October 27, 2020\u001b[0m\n",
            "Thought:\u001b[32;1m\u001b[1;3m I now know the final answer\n",
            "Final Answer: October 27, 2020\u001b[0m\n",
            "\n",
            "\u001b[1m> Finished chain.\u001b[0m\n",
            "faithfulness_score: 0.0\n",
            "answer_relevancy_score: 0.764300869513152\n",
            "context_relevancy_score: 0.03614457831325301\n"
          ]
        }
      ],
      "source": [
        "query = \"What is the Date of acquisition of Blue Acorn iCi Inc?\"\n",
        "response = agent_executor.run(query)\n",
        "search = store.similarity_search_with_score(query)\n",
        "chunk = search[0][0]\n",
        "\n",
        "doc = Document(page_content=chunk.page_content)\n",
        "\n",
        "for name, eval_chain in eval_chains.items():\n",
        "    score_name = f\"{name}_score\"\n",
        "    inputs = {\n",
        "        'query': query,\n",
        "        'source_documents': [doc],\n",
        "        'result': response\n",
        "    }\n",
        "    score = eval_chain(inputs)[score_name]\n",
        "    print(f\"{score_name}: {score}\")"
      ]
    },
    {
      "cell_type": "code",
      "execution_count": null,
      "metadata": {
        "colab": {
          "base_uri": "https://localhost:8080/"
        },
        "id": "zoJlgLf0BqAW",
        "outputId": "f1da9887-fe3c-42df-da4c-cbeb8f34c57f"
      },
      "outputs": [
        {
          "name": "stdout",
          "output_type": "stream",
          "text": [
            "\n",
            "\n",
            "\u001b[1m> Entering new AgentExecutor chain...\u001b[0m\n",
            "\u001b[32;1m\u001b[1;3m I need to find a source that has information about initiatives taken by the company for women and Women in Tech\n",
            "Action: annual_report_with_sources\n",
            "Action Input: initiatives taken by the company for women and Women in Tech\u001b[0m\n",
            "Observation: \u001b[33;1m\u001b[1;3m{\"answer\": \" The company has taken initiatives such as the IamtheFuture Women in Leadership Program, Employee Resource Groups, Anti-Sexual Harassment Initiative, and Orbit Next to support women and Women in Tech.\\n\", \"sources\": \"/content/infosys-ar-23.pdf\"}\u001b[0m\n",
            "Thought:\u001b[32;1m\u001b[1;3m I now know the final answer\n",
            "Final Answer: The company has taken initiatives such as the IamtheFuture Women in Leadership Program, Employee Resource Groups, Anti-Sexual Harassment Initiative, and Orbit Next to support women and Women in Tech.\u001b[0m\n",
            "\n",
            "\u001b[1m> Finished chain.\u001b[0m\n",
            "faithfulness_score: 0.5\n",
            "answer_relevancy_score: 0.9430522315049544\n",
            "context_relevancy_score: 0.047619047619047616\n"
          ]
        }
      ],
      "source": [
        "\n",
        "query = \"What initiavtive company took for women and Women in Tech particular?\"\n",
        "response = agent_executor.run(query)\n",
        "search = store.similarity_search_with_score(query)\n",
        "chunk = search[0][0]\n",
        "\n",
        "doc = Document(page_content=chunk.page_content)\n",
        "\n",
        "for name, eval_chain in eval_chains.items():\n",
        "    score_name = f\"{name}_score\"\n",
        "    inputs = {\n",
        "        'query': query,\n",
        "        'source_documents': [doc],\n",
        "        'result': response\n",
        "    }\n",
        "    score = eval_chain(inputs)[score_name]\n",
        "    print(f\"{score_name}: {score}\")"
      ]
    },
    {
      "cell_type": "code",
      "execution_count": null,
      "metadata": {
        "colab": {
          "base_uri": "https://localhost:8080/"
        },
        "id": "2eNVWiEnhSeT",
        "outputId": "ca89bdf1-dbb7-4471-8a11-68f536bc2cbc"
      },
      "outputs": [
        {
          "name": "stdout",
          "output_type": "stream",
          "text": [
            "\n",
            "\n",
            "\u001b[1m> Entering new AgentExecutor chain...\u001b[0m\n",
            "\u001b[32;1m\u001b[1;3m I need to find information about the selection and appointment of new directors\n",
            "Action: annual_report\n",
            "Action Input: selection and appointment of new directors\u001b[0m\n",
            "Observation: \u001b[36;1m\u001b[1;3m The Board delegates the screening and selection process to the Nomination and Remuneration Committee, which consists exclusively of independent directors. The Committee, based on defined criteria, as laid out in the Nomination and Remuneration Policy, presents a diverse slate of recommendations of eligible candidates to the Board. The Board recommends the appointment of the director to the shareholders. The proposal is placed before the shareholders for approval.\u001b[0m\n",
            "Thought:\u001b[32;1m\u001b[1;3m I now know the final answer\n",
            "Final Answer: The Board delegates the screening and selection process to the Nomination and Remuneration Committee, which consists exclusively of independent directors. The Committee, based on defined criteria, as laid out in the Nomination and Remuneration Policy, presents a diverse slate of recommendations of eligible candidates to the Board. The Board recommends the appointment of the director to the shareholders. The proposal is placed before the shareholders for approval.\u001b[0m\n",
            "\n",
            "\u001b[1m> Finished chain.\u001b[0m\n",
            "faithfulness_score: 1.0\n",
            "answer_relevancy_score: 0.9083993404459809\n",
            "context_relevancy_score: 0.21875\n"
          ]
        }
      ],
      "source": [
        "query = \"What is the process of Selection and appointment of new directors\"\n",
        "response = agent_executor.run(query)\n",
        "search = store.similarity_search_with_score(query)\n",
        "chunk = search[0][0]\n",
        "\n",
        "doc = Document(page_content=chunk.page_content)\n",
        "\n",
        "for name, eval_chain in eval_chains.items():\n",
        "    score_name = f\"{name}_score\"\n",
        "    inputs = {\n",
        "        'query': query,\n",
        "        'source_documents': [doc],\n",
        "        'result': response\n",
        "    }\n",
        "    score = eval_chain(inputs)[score_name]\n",
        "    print(f\"{score_name}: {score}\")"
      ]
    },
    {
      "cell_type": "code",
      "execution_count": null,
      "metadata": {
        "id": "tbRkKYQyhSVG"
      },
      "outputs": [],
      "source": []
    },
    {
      "cell_type": "code",
      "execution_count": null,
      "metadata": {
        "id": "HfGbRn6UhSTP"
      },
      "outputs": [],
      "source": []
    }
  ],
  "metadata": {
    "colab": {
      "provenance": []
    },
    "kernelspec": {
      "display_name": "Python 3",
      "name": "python3"
    },
    "language_info": {
      "name": "python"
    }
  },
  "nbformat": 4,
  "nbformat_minor": 0
}